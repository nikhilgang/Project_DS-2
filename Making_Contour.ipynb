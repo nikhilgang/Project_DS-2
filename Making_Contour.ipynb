{
 "cells": [
  {
   "cell_type": "code",
   "execution_count": 1,
   "metadata": {},
   "outputs": [],
   "source": [
    "from scipy.spatial import distance\n",
    "from imutils import face_utils\n",
    "import numpy as np\n",
    "import time\n",
    "import dlib\n",
    "import cv2\n"
   ]
  },
  {
   "cell_type": "code",
   "execution_count": 2,
   "metadata": {},
   "outputs": [],
   "source": [
    "\n",
    "face_cascade = cv2.CascadeClassifier(\"C:\\\\Users\\\\Lenovo\\\\Desktop\\\\face\\\\haarcascade_frontalface_default.xml\")\n"
   ]
  },
  {
   "cell_type": "code",
   "execution_count": 3,
   "metadata": {},
   "outputs": [],
   "source": [
    "\n",
    "EYE_DROWSINESS_THRESHOLD = 0.3\n",
    "COUNTER = 0\n",
    "EYE_ASPECT_RATIO_CONSEC_FRAMES = 50"
   ]
  },
  {
   "cell_type": "code",
   "execution_count": 4,
   "metadata": {},
   "outputs": [],
   "source": [
    "\n",
    "def get_aspect_ratio(eye):\n",
    "    vertical_1 = distance.euclidean(eye[1], eye[5])\n",
    "    vertical_2 = distance.euclidean(eye[2], eye[4])\n",
    "    horizontal = distance.euclidean(eye[0], eye[3])\n",
    "\n",
    "    return (vertical_1+vertical_2)/(horizontal*2)"
   ]
  },
  {
   "cell_type": "code",
   "execution_count": 5,
   "metadata": {},
   "outputs": [],
   "source": [
    "\n",
    "detector = dlib.get_frontal_face_detector()\n",
    "predictor = dlib.shape_predictor('C:\\\\Users\\\\Lenovo\\\\Desktop\\\\face\\\\shape_predictor_68_face_landmarks.dat')\n"
   ]
  },
  {
   "cell_type": "code",
   "execution_count": 6,
   "metadata": {},
   "outputs": [],
   "source": [
    "\n",
    "(ls, le) = face_utils.FACIAL_LANDMARKS_IDXS['left_eye']\n",
    "(rs, re) = face_utils.FACIAL_LANDMARKS_IDXS['right_eye']\n"
   ]
  },
  {
   "cell_type": "code",
   "execution_count": 7,
   "metadata": {},
   "outputs": [],
   "source": [
    "\n",
    "detect = cv2.VideoCapture(0)"
   ]
  },
  {
   "cell_type": "code",
   "execution_count": 8,
   "metadata": {},
   "outputs": [],
   "source": [
    "while(True):\n",
    "    _ , frame = detect.read()\n",
    "    frame = cv2.flip(frame,1)\n",
    "    gray = cv2.cvtColor(frame, cv2.COLOR_BGR2GRAY)\n",
    "\n",
    "    \n",
    "    rects = detector(gray, 0)\n",
    "\n",
    "    \n",
    "    face_rectangle = face_cascade.detectMultiScale(gray, 1.3, 5)\n",
    "\n",
    "    \n",
    "    for (x,y,w,h) in face_rectangle:\n",
    "        cv2.rectangle(frame,(x,y),(x+w,y+h),(255,0,0),2)\n",
    "\n",
    "    for face in rects:\n",
    "\n",
    "        shape = predictor(gray, face)\n",
    "        shape = face_utils.shape_to_np(shape)\n",
    "\n",
    "        \n",
    "        leftEye = shape[ls:le]\n",
    "        rightEye = shape[rs:re]\n",
    "\n",
    "        #Calculate aspect ratio of both eyes\n",
    "        leftEyeAspectRatio = get_aspect_ratio(leftEye)\n",
    "        rightEyeAspectRatio =get_aspect_ratio(rightEye)\n",
    "\n",
    "        eyeAspectRatio = (leftEyeAspectRatio + rightEyeAspectRatio) / 2\n",
    "\n",
    "        \n",
    "        leftEyeHull = cv2.convexHull(leftEye)\n",
    "        rightEyeHull = cv2.convexHull(rightEye)\n",
    "        cv2.drawContours(frame, [leftEyeHull], -1, (0, 255, 0), 1)\n",
    "        cv2.drawContours(frame, [rightEyeHull], -1, (0, 255, 0), 1)\n",
    "\n",
    "       \n",
    "        if(eyeAspectRatio < EYE_DROWSINESS_THRESHOLD ):\n",
    "            COUNTER += 1\n",
    "           \n",
    "   \n",
    "    cv2.imshow('Video', frame)\n",
    "    if(cv2.waitKey(1) & 0xFF == ord('q')):\n",
    "        break\n"
   ]
  },
  {
   "cell_type": "code",
   "execution_count": 9,
   "metadata": {},
   "outputs": [],
   "source": [
    "detect.release()\n",
    "cv2.destroyAllWindows()\n"
   ]
  },
  {
   "cell_type": "code",
   "execution_count": null,
   "metadata": {},
   "outputs": [],
   "source": []
  }
 ],
 "metadata": {
  "kernelspec": {
   "display_name": "Python 3",
   "language": "python",
   "name": "python3"
  },
  "language_info": {
   "codemirror_mode": {
    "name": "ipython",
    "version": 3
   },
   "file_extension": ".py",
   "mimetype": "text/x-python",
   "name": "python",
   "nbconvert_exporter": "python",
   "pygments_lexer": "ipython3",
   "version": "3.7.6"
  }
 },
 "nbformat": 4,
 "nbformat_minor": 4
}
