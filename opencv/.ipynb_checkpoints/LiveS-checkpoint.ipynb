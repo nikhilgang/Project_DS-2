{
 "cells": [
  {
   "cell_type": "code",
   "execution_count": null,
   "metadata": {},
   "outputs": [],
   "source": [
    "import cv2\n",
    "import numpy as np\n",
    "\n",
    "#OUR SKETCH DETECTING FUNCTION\n",
    "\n",
    "def sketch(im):\n",
    "    #change a image to grayscale\n",
    "    im_gray=cv2.cvtColor(im,cv2.COLOR_BGR2GRAY)\n",
    "    \n",
    "    #clean the image using in guassian blur\n",
    "    im_gray_blur=cv2.GaussianBlur(im_gray,(5,5),0)\n",
    "    \n",
    "    #Extract edges\n",
    "    canny_edge=cv2.Canny(im_gray_blur,10,70)\n",
    "    \n",
    "    #do an invert binarize image\n",
    "    ret,mask=cv2.threshold(canny_edge,70,255,cv2.THRESH_BINARY_INV)\n",
    "    \n",
    "    return mask\n",
    "\n",
    "#INITIALIZING WEBCAM FOR CAPTURING THE VIDEO \n",
    "    \n",
    "cap=cv2.VideoCapture(0)\n",
    "\n",
    "while True:\n",
    "    ret,im=cap.read()\n",
    "    cv2.imshow(\"LIVE SKETCH\",sketch(im))\n",
    "    \n",
    "    if cv2.waitKey(1)==5:\n",
    "        break\n",
    "        \n",
    "#RELEASING CAMERA AND CLOSE WINDOWS\n",
    "\n",
    "cap.release()\n",
    "cv2.destroyAllWindows()\n"
   ]
  }
 ],
 "metadata": {
  "kernelspec": {
   "display_name": "Python 3",
   "language": "python",
   "name": "python3"
  },
  "language_info": {
   "codemirror_mode": {
    "name": "ipython",
    "version": 3
   },
   "file_extension": ".py",
   "mimetype": "text/x-python",
   "name": "python",
   "nbconvert_exporter": "python",
   "pygments_lexer": "ipython3",
   "version": "3.6.8"
  }
 },
 "nbformat": 4,
 "nbformat_minor": 4
}
